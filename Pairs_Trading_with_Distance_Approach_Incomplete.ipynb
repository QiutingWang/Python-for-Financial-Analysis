{
  "nbformat": 4,
  "nbformat_minor": 0,
  "metadata": {
    "colab": {
      "provenance": []
    },
    "kernelspec": {
      "name": "python3",
      "display_name": "Python 3"
    },
    "language_info": {
      "name": "python"
    }
  },
  "cells": [
    {
      "cell_type": "markdown",
      "source": [
        "# Pairs Trading with Distance Method(DM) Theory Part"
      ],
      "metadata": {
        "id": "WDARUWWerk-Z"
      }
    },
    {
      "cell_type": "markdown",
      "source": [
        "## References:\n",
        "- Distance Approach in Pairs Trading: Part I.https://hudsonthames.org/distance-approach-in-pairs-trading-part-i/\n",
        "- Introduction to Distance Approach in Pairs Trading: Part II.https://hudsonthames.org/introduction-to-distance-approach-in-pairs-trading-part-ii/\n",
        "- ArbitrageLab Presentation by Illya Barziy. https://docs.google.com/presentation/d/1oFpv7OUi3W9F2D30rEQRy_Ra5ejLtlCMnk9nTJnMDr4/edit#slide=id.gb6709680a6_0_273\n",
        "- Distance Approach in Paris Trading- Part 1. https://docs.google.com/presentation/d/1KrBUsROvx6aeFrsVbI1CgwIcH-VTD4xWVSlQKnknvR4/edit#slide=id.gd7dda458c4_0_232\n",
        "- Pairs trading.Pair selection.Distance(Part 1). https://medium.com/@financialnoob/pairs-trading-pair-selection-distance-5ac4aeef0de0\n",
        "- Distance Approach in Pairs Trading - Part 2. https://docs.google.com/presentation/d/1YjEHkEVn9T9K8UlWfO63qLU2qgU63cHxnO8xGFpxpHs/edit#slide=id.p1\n",
        "- Statistical arbitrage pairs trading strategies: Review and outlook.\n",
        "- Introduction to the Hurst exponent — with code in Python. https://towardsdatascience.com/introduction-to-the-hurst-exponent-with-code-in-python-4da0414ca52e"
      ],
      "metadata": {
        "id": "Z5LtrYBer8aa"
      }
    },
    {
      "cell_type": "markdown",
      "source": [
        "## Procedure:\n",
        "1. Security selection\n",
        "2. Price normalization\n",
        "3. Eulidean distance calculation(can be replaced with alternative distance method)\n",
        "4. Pairs selection\n",
        "5. Position entry and exit rules\n"
      ],
      "metadata": {
        "id": "j0kfMAkcyfd_"
      }
    },
    {
      "cell_type": "markdown",
      "source": [
        "### Data Preperation:\n",
        "- 1962-2002 US liquid stocks\n",
        "\n",
        "### Pairs Formation\n",
        "\n",
        "#### 1. Normalization\n",
        "- Formula: $P_{normalized}=\\frac{P-min(P)}{max(P)-min(P)}$\n",
        "- Effects: shift the stock prices' range to $[0,1]$\n",
        "\n",
        "#### 2. Distance Calculation for Normalized Prices\n",
        "- Formula: $SSD=\\sum_{t=1}^{N}(P_t^1-P_t^2)^2$\n",
        "- picking $top \\space n$ pairs with smallest distance, normally we select $n=20$\n",
        "\n",
        "#### 3. Calculate the Historical Spread Volatility(std)\n",
        "- Formula: $\\sigma=\\sqrt[2]{\\frac{\\sum(x_i-\\mu)^2}{N-1}}$\n",
        "- it is regarded as threshold to enter/exit the trade during the trading period\n",
        "\n",
        "### Trading Period\n",
        "\n",
        "1. **Normalizing** the prices in trading period using $min(P)$ and $max(P)$\n",
        "2. Calculating `pairs spreads` in the trading period\n",
        "  - the portfolio value series are differences between normalized price series of elements in pairs.\n",
        "3. Generating trading signals\n",
        "  - if spread value> 2$\\sigma$  → **sell** signal\n",
        "  - when spread crosses 0 → **close open** position\n",
        "  - if spread value < -2$\\sigma$ → **buy** signal\n",
        "4. Strategy Application Details:\n",
        "  - Time period: Trains(formation period) for 12 months, Test(trading period) for 6 months\n",
        "  - Threshold: $2\\sigma$\n",
        "  - Number of Pairs: $n=20$\n",
        "\n",
        "### Strategy Variations \n",
        "\n",
        "- Pairs formation/ trading period duration\n",
        "- number of pairs chosen\n",
        "- Signal generation sensitivity\n",
        "- Weights in *portfolio* of pairs\n",
        "- Weights of *assets* in each pair\n"
      ],
      "metadata": {
        "id": "gdLgfzM6yzmz"
      }
    },
    {
      "cell_type": "markdown",
      "source": [
        "## Other Alternative Distance Approach with Different Pairs Selection Method\n",
        "\n",
        "1. pairs with smallest distance(basic approach with $SSD$)\n",
        "2. pairs with **same industry group** calculating their SSDs, then n closest pairs are selected. \n",
        "  - More porfitable pairs will obtained by adding one more criterion than the basic one.\n",
        "3. Choose $top \\space n$ pairs with a higher **number of zero-crossings**\n",
        "  - zero-crossing: the function has an intercept with x-axis\n",
        "  - Intuition: \n",
        "    - it measures the frequency of *divergence and convergence* between two assets\n",
        "    - track each other and exhibit frequent deviations that *reversed* under the force of arbitrage.\n",
        "  - Statistical expression: $Pairs \\space return_i=Constant+a_1TimeTrend+a_2SSD_i+a_3SSD_i^2+a_4log(Zero-crossings)+a_5SameIndustryFlag+a_6IndustryVolatility_i+a_7(IndustryVolatility_i)^2+e_i$\n",
        "    - $a_4$: coefficient of factors affecting pairs return is *statistically signifiant*, has a **postive effect** on pairs return. \n",
        "    - pairs trading with higher number of zeros-crossings, the higher profitability.\n",
        "4. Pairs with a higher historical pricing **standard deviation**\n",
        "  - **Limitation** of SSD method:\n",
        "    - Formula: $\\bar{SSD_{ijt}}=\\frac{1}{T}\\sum_{t=i}^T(P_{it}-P_{jt})^2=Var(P_{it}-P_{jt})+[\\frac{1}{T}\\sum_{t=i}^T(P_{it}-P_{jt})^2]^2$\n",
        "      - Rewrite the funciton: spread variance: $Var(P_{it}-P_{jt})=\\frac{1}{T}\\sum_{t=i}^T(P_{it}-P_{jt})^2-[\\frac{1}{T}\\sum_{t=i}^T(P_{it}-P_{jt})^2]^2$\n",
        "    - Intuition: \n",
        "      - lowing SSD should companied with minimum <u>the sum of spread variance and squared spread mean</u>\n",
        "      - But if we want to *get more profit potientially*, we should expect the variance of spread much more higher!\n",
        "5. Selecting pairs with low enough **half-life of mean reversion**\n",
        "6. Selecting only pairs with **Hurst exponent** < 0.5\n",
        "  - Hurst Exponent($H$):\n",
        "    - a measure of long-term memory and the amount series deviates from a <u>random walk</u>.\n",
        "    - related to <u>trending pattern</u> and <u>mean-reverting pattern</u>\n",
        "    - range $[0,1]$, the higher H, the stock market's future prices are likely to be more similar to its past prices.\n",
        "      - $H < 0.5$: a **mean-reverting** series\n",
        "         - anti-persistent, eg: high value closely followed by low value.\n",
        "         - the closer the value to $0$, the stronger mean-reversion pattern is.\n",
        "      - $H = 0.5$: geometric **random walk**\n",
        "      - $H > 0.5$: a **trending series**\n",
        "         - persistent series, eg: high value closely followed by a higher one.\n",
        "7. Selecting $top \\space n$ pairs with highest **Pearson correlation coefficient**\n",
        "  - Pearson Correlation on returns formula: $D_{ijt}=\\beta(R_{it}-R_f)-(R_{jt}-R_f)$\n",
        "    - $D$: return divergence\n",
        "    - $\\beta$: regression coefficient of stock i monthly return on its pair's return.\n",
        "  - Portfolio construction: order the stock in descend in terms of pervious month's return divergence($D$), pick $top \\space n$ stocks.\n",
        "  - Portfolio Formation:\n",
        "    1. Data Preprocessing\n",
        "      - Data split:\n",
        "         - Training(Formation period) set: price data from year $t-4$ to year $t$(5 year in total)\n",
        "         - Testing(Trading period) set: price data at year $t+1$\n",
        "      - Data manipulation\n",
        "        - for getting pairs' correlation, if there exists $m$ stocks, the numbers of correlation needed to compute is $m(m-1)/2$\n",
        "        - for reduce computational burden, we use <u>monthly data</u>\n",
        "    2. Pairs Portfolio Formation\n",
        "      - Finding pairs with *top n highest* correlation coefficient\n",
        "      - Weights allocation(3 ways):\n",
        "         - Simple OLS of Returns of pairs portfolio:\n",
        "           - Formula: $R_{jt}=\\alpha+\\beta*R_{it}$, we can get $\\beta$ in this step by linear regression\n",
        "         - Equal-weighted portfolio: with <u>equal-weighted average returns</u> of top n pairs of stocks\n",
        "         - Correlation-weighted portfolio: \n",
        "           - Formula: $w_k=\\frac{\\rho_{k}}{\\sum_{i=1}^n \\rho_i}$\n",
        "             - $k$: *benchmark portfolio* for each of stock\n",
        "    3. Trading Signal Generation\n",
        "      - Assumption: About $D$, if *individual stock return* <u>deviates</u> from its *pairs portfolio returns*, in the following month the divergence should be *reversed* in trading period($t+1$ year). \n",
        "      - Trading Signal:\n",
        "         1. sort stocks in descending order in terms of perious monthly $D_{ijt}$\n",
        "         2. given the percentages of long, short stocks: \n",
        "           - top $p$% of sorted stock→long \n",
        "           - bottom $q$% of sorted stock→short\n",
        "        3. Special Case:\n",
        "          -  *Dollar neutral* portfolio construction: long decile 10 and short decile 1. Then held for one month.\n",
        "             - Dollar neutral definition: long side & short side in dollar will completely offset each other, so net=0 in dollar notional terms.\n",
        "  - Comparison with Basic Distance Method\n",
        "     1. Pearson correlation restricts less than SSD method\n",
        "       - PC takes advantage of `Variance of Return Spread`\n",
        "         - seeking higher pearson correlation needs **lower** vairance of return spreads.\n",
        "         - Formula: $Var(R_{it}-R_{jt})=Var(R_{it})+Var(R_{jt})-2r(R_{it},R_{it})\\sqrt[2]{R_{it}}\\sqrt[2]{R_{jt}}$\n",
        "           - return correlation: $2r(R_{it},R_{it})$\n",
        "       - SSD takes advantage of `Variance of Price Spread`\n",
        "         - minimizing SSD needs **lowing** variance of price spread\n",
        "           - if the pairs are <u>perfectly correlated</u> and price time series have the <u>same variance</u>, the variance of price spread→0.\n",
        "           - Finally, SSD method gets pairs with <u>similar low variance and higher correlation</u> of stock prices. As a result, the selection metric is stricter than that of PC.\n",
        "         - Formula: $Var(P_{it}-P_{jt})=Var(P_{it})+Var(P_{jt})-2r(P_{it},P_{it})\\sqrt[2]{P_{it}}\\sqrt[2]{P_{jt}}$\n",
        "           - Price correlation: $2r(P_{it},P_{it})$\n",
        "    2. Pearson correlation provides higher level information\n",
        "      - the return divergences mostly caused by **idiosyncratic movements** of stock i, have potential to *reverse*.\n",
        "      - **Quasi-multivariate pairs trading**($P_{it}=\\sum_{k=1}^nw_kP_{kt}$) leads to <u>higher and more robust</u> annual excess returns than univariate pairs trading ($P_{jt}$)\n",
        "         - Notions:\n",
        "           - $P_{kt}$: linear combination of price time series\n",
        "           - $w_k$: the weights are rolling calculated, for every 10 days, the weights are re-estimated by three ways we have mentioned above, using past 2 years' return.\n",
        "         - Trading signal: \n",
        "           - open: spread between 2 price time series, exceed threshold $k$\n",
        "           - close: spread below threhold $k$\n",
        "         - This method <u>reduces high transaction prices</u>.\n",
        "\n"
      ],
      "metadata": {
        "id": "9NASrplBzc9G"
      }
    }
  ]
}