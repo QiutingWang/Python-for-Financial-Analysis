{
  "nbformat": 4,
  "nbformat_minor": 0,
  "metadata": {
    "colab": {
      "provenance": []
    },
    "kernelspec": {
      "name": "python3",
      "display_name": "Python 3"
    },
    "language_info": {
      "name": "python"
    }
  },
  "cells": [
    {
      "cell_type": "markdown",
      "source": [
        "## 4. Inheritance - Creating Subclasses\n",
        "- references: https://www.w3schools.com/python/python_inheritance.asp\n",
        "- Definition: define a class that inherits all the methods and properties from another one.\n",
        "  - father class\n",
        "  - child class(derived class)"
      ],
      "metadata": {
        "id": "jmO-k9G_Lhmu"
      }
    },
    {
      "cell_type": "code",
      "source": [
        "class Employee:\n",
        "  raise_amount=1.04\n",
        "\n",
        "  def __init__(self, firstName, lastName, pay):\n",
        "    self.firstName=firstName\n",
        "    self.lastName=lastName\n",
        "    self.email=firstName+lastName+\"@outlook.com\"\n",
        "    self.pay=pay\n",
        "\n",
        "  def fullName(self):\n",
        "    return \"{} {}\".format(self.firstName,self.lastName)\n",
        "\n",
        "  def apply_raise(self):\n",
        "    self.pay=int(self.pay * self.raise_amount)"
      ],
      "metadata": {
        "id": "gLKxOX1wMw0u"
      },
      "execution_count": 1,
      "outputs": []
    },
    {
      "cell_type": "code",
      "source": [
        "dev_1=Employee('Adam','Schafer',50000)\n",
        "dev_2=Employee('Walter','Smith',55000)"
      ],
      "metadata": {
        "id": "T40bqs0XA2lC"
      },
      "execution_count": 2,
      "outputs": []
    },
    {
      "cell_type": "code",
      "source": [
        "print(dev_1.email)\n",
        "print(dev_2.email)"
      ],
      "metadata": {
        "colab": {
          "base_uri": "https://localhost:8080/"
        },
        "id": "IBqex86mBVqb",
        "outputId": "e21bb948-e51b-49f0-8a17-3206bded01ef"
      },
      "execution_count": 3,
      "outputs": [
        {
          "output_type": "stream",
          "name": "stdout",
          "text": [
            "AdamSchafer@outlook.com\n",
            "WalterSmith@outlook.com\n"
          ]
        }
      ]
    },
    {
      "cell_type": "markdown",
      "source": [
        "### Construct a child class\n",
        "  - **Method Resolution Order**: the chain of inheritance. First comes to the closest child class then upward to find the father class, until fingure out all the attributes it needs.\n",
        "  - `super().parentClassMethodName(parameters)`: make the child class inherit all the methods and properties from its parent\n",
        "    - the parameters passed in are **exclude** `self`, thanks to `self` is refer to child method now.\n",
        "  - or we can use `parentClassName.parentClassMethodName(parameters)` alternatively\n",
        "  - Add attributes: use `self.attributeName=value`"
      ],
      "metadata": {
        "id": "hNU1K8r-Q6cz"
      }
    },
    {
      "cell_type": "code",
      "source": [
        "dev_1=developer('Adam','Schafer',50000)\n",
        "dev_2=developer('Walter','Smith',55000)"
      ],
      "metadata": {
        "id": "mzU0ZTpMBlVE"
      },
      "execution_count": 5,
      "outputs": []
    },
    {
      "cell_type": "code",
      "source": [
        "class developer(Employee):  #build a child class, declare the father className in the bracket\n",
        "  #pass #Use the `pass` keyword when you do not want to add any other properties or methods to the class.\n",
        "\n",
        "  #if we want to change the developers' raise amount, then we can edit at here\n",
        "  raise_amount=1.10\n",
        "\n",
        "  #add more properties that father class doesn't define, use `super()` to let father class handle the pre-set attributes, and add new attribute to child class\n",
        "  def __init__(self, firstName, lastName, pay, progLang):\n",
        "    super().__init__(firstName, lastName, pay)\n",
        "    self.progLang=progLang"
      ],
      "metadata": {
        "id": "KZ8RbKw7Oe2a"
      },
      "execution_count": 13,
      "outputs": []
    },
    {
      "cell_type": "markdown",
      "source": [
        "#### Use `help` to visualize the inheritance chain information"
      ],
      "metadata": {
        "id": "4mFOzsdlFMeg"
      }
    },
    {
      "cell_type": "code",
      "source": [
        "print(help(developer))"
      ],
      "metadata": {
        "colab": {
          "base_uri": "https://localhost:8080/"
        },
        "id": "tHO0yub7FI8h",
        "outputId": "63e8c116-5e19-4bd4-ce27-9a154c9c36ce"
      },
      "execution_count": 7,
      "outputs": [
        {
          "output_type": "stream",
          "name": "stdout",
          "text": [
            "Help on class developer in module __main__:\n",
            "\n",
            "class developer(Employee)\n",
            " |  developer(firstName, lastName, pay)\n",
            " |  \n",
            " |  Method resolution order:\n",
            " |      developer\n",
            " |      Employee\n",
            " |      builtins.object\n",
            " |  \n",
            " |  Methods inherited from Employee:\n",
            " |  \n",
            " |  __init__(self, firstName, lastName, pay)\n",
            " |      Initialize self.  See help(type(self)) for accurate signature.\n",
            " |  \n",
            " |  apply_raise(self)\n",
            " |  \n",
            " |  fullName(self)\n",
            " |  \n",
            " |  ----------------------------------------------------------------------\n",
            " |  Data descriptors inherited from Employee:\n",
            " |  \n",
            " |  __dict__\n",
            " |      dictionary for instance variables (if defined)\n",
            " |  \n",
            " |  __weakref__\n",
            " |      list of weak references to the object (if defined)\n",
            " |  \n",
            " |  ----------------------------------------------------------------------\n",
            " |  Data and other attributes inherited from Employee:\n",
            " |  \n",
            " |  raise_amount = 1.04\n",
            "\n",
            "None\n"
          ]
        }
      ]
    },
    {
      "cell_type": "code",
      "source": [
        "print(dev_1.email)\n",
        "print(dev_2.email)"
      ],
      "metadata": {
        "colab": {
          "base_uri": "https://localhost:8080/"
        },
        "id": "U4DcIpzDBp4-",
        "outputId": "d27e330b-1e8e-4353-8a34-256ad7a24e5c"
      },
      "execution_count": 6,
      "outputs": [
        {
          "output_type": "stream",
          "name": "stdout",
          "text": [
            "AdamSchafer@outlook.com\n",
            "WalterSmith@outlook.com\n"
          ]
        }
      ]
    },
    {
      "cell_type": "markdown",
      "source": [
        "#### Customerize the Subclass"
      ],
      "metadata": {
        "id": "IaH9oUouF0Yg"
      }
    },
    {
      "cell_type": "code",
      "source": [
        "#before change the raise amount in developer class\n",
        "print(dev_1.pay)\n",
        "dev_1.apply_raise()\n",
        "print(dev_1.pay)"
      ],
      "metadata": {
        "colab": {
          "base_uri": "https://localhost:8080/"
        },
        "id": "TzWjV3SQF5I8",
        "outputId": "f2c3e936-9934-4f30-ded7-5608caf335ce"
      },
      "execution_count": 8,
      "outputs": [
        {
          "output_type": "stream",
          "name": "stdout",
          "text": [
            "50000\n",
            "52000\n"
          ]
        }
      ]
    },
    {
      "cell_type": "code",
      "source": [
        "#after change the raise amount in developer class\n",
        "print(dev_1.pay)\n",
        "dev_1.apply_raise()\n",
        "print(dev_1.pay)"
      ],
      "metadata": {
        "colab": {
          "base_uri": "https://localhost:8080/"
        },
        "id": "DQWrXw-tGqPP",
        "outputId": "43c262ac-ab3e-458d-a84a-873975ee927f"
      },
      "execution_count": 10,
      "outputs": [
        {
          "output_type": "stream",
          "name": "stdout",
          "text": [
            "52000\n",
            "54080\n"
          ]
        }
      ]
    },
    {
      "cell_type": "code",
      "source": [
        "#if define the dev_1 instance under the father class\n",
        "dev_1=Employee('Adam','Schafer',50000)"
      ],
      "metadata": {
        "id": "fhg1D142G7rJ"
      },
      "execution_count": 11,
      "outputs": []
    },
    {
      "cell_type": "code",
      "source": [
        "print(dev_1.pay)\n",
        "dev_1.apply_raise()\n",
        "print(dev_1.pay) #it returns back as the 1.04 declared original"
      ],
      "metadata": {
        "colab": {
          "base_uri": "https://localhost:8080/"
        },
        "id": "eMieceQbG-rU",
        "outputId": "5f8d4786-b9ef-471a-8dbb-4d57a017cf8d"
      },
      "execution_count": 12,
      "outputs": [
        {
          "output_type": "stream",
          "name": "stdout",
          "text": [
            "50000\n",
            "52000\n"
          ]
        }
      ]
    },
    {
      "cell_type": "markdown",
      "source": [
        "- If we change any value in child class, the original value in father class is not affacted."
      ],
      "metadata": {
        "id": "HiVT_voIHNdL"
      }
    },
    {
      "cell_type": "markdown",
      "source": [
        "#### After inheritance and add properties:"
      ],
      "metadata": {
        "id": "nbBPKJylLB82"
      }
    },
    {
      "cell_type": "code",
      "source": [
        "dev_1=developer('Adam','Schafer',50000,\"python\")\n",
        "dev_2=developer('Walter','Smith',55000,\"C++\")"
      ],
      "metadata": {
        "id": "gCuLktlSK6aw"
      },
      "execution_count": 14,
      "outputs": []
    },
    {
      "cell_type": "code",
      "source": [
        "print(dev_1.email)\n",
        "print(dev_1.progLang)"
      ],
      "metadata": {
        "colab": {
          "base_uri": "https://localhost:8080/"
        },
        "id": "iMZDJ8w2LNPd",
        "outputId": "a033a75f-c8b2-49a9-f47f-3074f985412d"
      },
      "execution_count": 15,
      "outputs": [
        {
          "output_type": "stream",
          "name": "stdout",
          "text": [
            "AdamSchafer@outlook.com\n",
            "python\n"
          ]
        }
      ]
    },
    {
      "cell_type": "markdown",
      "source": [
        "### Another Subclass"
      ],
      "metadata": {
        "id": "X-KXUIATMOQw"
      }
    },
    {
      "cell_type": "code",
      "source": [
        "class Manager(Employee):\n",
        "  def __init__(self, firstName, lastName, pay, employees=None): #set the default to the newly created attribute for Manager child class\n",
        "    super().__init__(firstName, lastName, pay)\n",
        "    if employees is None:\n",
        "      self.employees=[] #a blank list\n",
        "    else:\n",
        "      self.employees=employees\n",
        "\n",
        "  ##add a few methods\n",
        "  #create methods that manager can recruit or remove the employees they supervised\n",
        "  def add_employee(self, emp):\n",
        "    if emp not in self.employees:\n",
        "      self.employees.append(emp)\n",
        "\n",
        "  def remove_employee(self, emp):\n",
        "    if emp in self.employees:\n",
        "      self.employees.remove(emp)\n",
        "\n",
        "  #create a method that print out the employee list\n",
        "  def printEmployee(self):\n",
        "    for emp in self.employees:\n",
        "      print('-->',emp.fullName())"
      ],
      "metadata": {
        "id": "K_EqNOcWMRYM"
      },
      "execution_count": 31,
      "outputs": []
    },
    {
      "cell_type": "code",
      "source": [
        "mgr_1=Manager('Sue','Brown',90000,[dev_1])"
      ],
      "metadata": {
        "id": "-XPdKpLNOqOb"
      },
      "execution_count": 32,
      "outputs": []
    },
    {
      "cell_type": "code",
      "source": [
        "print(mgr_1.email)"
      ],
      "metadata": {
        "colab": {
          "base_uri": "https://localhost:8080/"
        },
        "id": "RSpTViM6Pbhl",
        "outputId": "a74c4484-7e9b-4dac-a0a6-459158e20b49"
      },
      "execution_count": 33,
      "outputs": [
        {
          "output_type": "stream",
          "name": "stdout",
          "text": [
            "SueBrown@outlook.com\n"
          ]
        }
      ]
    },
    {
      "cell_type": "code",
      "source": [
        "#call the methods\n",
        "mgr_1.add_employee(dev_2)"
      ],
      "metadata": {
        "id": "N_2NLbWKQaKR"
      },
      "execution_count": 34,
      "outputs": []
    },
    {
      "cell_type": "code",
      "source": [
        "mgr_1.remove_employee(dev_1)"
      ],
      "metadata": {
        "id": "87tSZmt6Qse7"
      },
      "execution_count": 35,
      "outputs": []
    },
    {
      "cell_type": "code",
      "source": [
        "mgr_1.printEmployee()"
      ],
      "metadata": {
        "colab": {
          "base_uri": "https://localhost:8080/"
        },
        "id": "dA0XnU8sPh9K",
        "outputId": "6b3810f0-e9ba-4d53-9b02-9c54b8482050"
      },
      "execution_count": 36,
      "outputs": [
        {
          "output_type": "stream",
          "name": "stdout",
          "text": [
            "--> Walter Smith\n"
          ]
        }
      ]
    },
    {
      "cell_type": "markdown",
      "source": [
        "### Two Builtin Functions: isinstance and issubclass\n",
        "- `isinstance()`: check whether an object is an instance of a class\n",
        "- `issubclass()`: check whether a class is the subclass of another"
      ],
      "metadata": {
        "id": "0Ol8rInURyvR"
      }
    },
    {
      "cell_type": "code",
      "source": [
        "print(isinstance(mgr_1,Manager))"
      ],
      "metadata": {
        "colab": {
          "base_uri": "https://localhost:8080/"
        },
        "id": "cWNpqqoXSTlh",
        "outputId": "52ddb1f1-5418-49fe-aa53-a32cf3c7bdce"
      },
      "execution_count": 37,
      "outputs": [
        {
          "output_type": "stream",
          "name": "stdout",
          "text": [
            "True\n"
          ]
        }
      ]
    },
    {
      "cell_type": "code",
      "source": [
        "print(isinstance(mgr_1,Employee))"
      ],
      "metadata": {
        "colab": {
          "base_uri": "https://localhost:8080/"
        },
        "id": "mXnlSNmoSbyd",
        "outputId": "01da5f3b-147a-40c4-ac81-f56a69702653"
      },
      "execution_count": 38,
      "outputs": [
        {
          "output_type": "stream",
          "name": "stdout",
          "text": [
            "True\n"
          ]
        }
      ]
    },
    {
      "cell_type": "code",
      "source": [
        "print(isinstance(mgr_1,developer))"
      ],
      "metadata": {
        "colab": {
          "base_uri": "https://localhost:8080/"
        },
        "id": "agES3Kj_SeNt",
        "outputId": "b545d3ce-da3f-4e65-dff3-561c64756fac"
      },
      "execution_count": 39,
      "outputs": [
        {
          "output_type": "stream",
          "name": "stdout",
          "text": [
            "False\n"
          ]
        }
      ]
    },
    {
      "cell_type": "code",
      "source": [
        "print(issubclass(developer,Employee))"
      ],
      "metadata": {
        "colab": {
          "base_uri": "https://localhost:8080/"
        },
        "id": "bon7mvzISpRh",
        "outputId": "29aec8ff-3dd6-49b0-d4f7-a8f8baedbdbb"
      },
      "execution_count": 40,
      "outputs": [
        {
          "output_type": "stream",
          "name": "stdout",
          "text": [
            "True\n"
          ]
        }
      ]
    },
    {
      "cell_type": "code",
      "source": [
        "print(issubclass(Manager,Employee))"
      ],
      "metadata": {
        "colab": {
          "base_uri": "https://localhost:8080/"
        },
        "id": "Vpnt6PNcSvjl",
        "outputId": "47c5aeef-d919-43ff-a9a1-c7b9e23e594d"
      },
      "execution_count": 41,
      "outputs": [
        {
          "output_type": "stream",
          "name": "stdout",
          "text": [
            "True\n"
          ]
        }
      ]
    },
    {
      "cell_type": "code",
      "source": [
        "print(issubclass(developer,Manager))"
      ],
      "metadata": {
        "colab": {
          "base_uri": "https://localhost:8080/"
        },
        "id": "Z3Ti6HKKSxHE",
        "outputId": "de8820cd-e6db-4a35-fd35-5d3523491ddf"
      },
      "execution_count": 42,
      "outputs": [
        {
          "output_type": "stream",
          "name": "stdout",
          "text": [
            "False\n"
          ]
        }
      ]
    },
    {
      "cell_type": "markdown",
      "source": [
        "## 5. Special(Magic/Dunder) Methods\n",
        "- 🌟reference the list of dunder: https://docs.python.org/3/reference/datamodel.html#special-method-names\n",
        "- surounded by double underscores, used for customerizing built-in functions and operators"
      ],
      "metadata": {
        "id": "wNWqbALLNJkh"
      }
    },
    {
      "cell_type": "code",
      "source": [
        "class Employee:\n",
        "  raise_amount=1.04\n",
        "\n",
        "  def __init__(self, firstName, lastName, pay):\n",
        "    self.firstName=firstName\n",
        "    self.lastName=lastName\n",
        "    self.email=firstName+lastName+\"@outlook.com\"\n",
        "    self.pay=pay\n",
        "\n",
        "  def fullName(self):\n",
        "    return \"{} {}\".format(self.firstName,self.lastName)\n",
        "\n",
        "  def apply_raise(self):\n",
        "    self.pay=int(self.pay * self.raise_amount)\n",
        "  \n",
        "  def __repr__(self): #represent and print a class's objects as a string\n",
        "    return \"Employee('{}','{}','{}')\".format(self.firstName, self.lastName, self.pay)\n",
        "\n",
        "  def __str__(self): #print in string format\n",
        "    return '{} - {}'.format(self.fullName(), self.email)\n",
        " \n",
        "  def __add__(self,other):\n",
        "    return self.pay + other.pay\n",
        "\n",
        "  def __len__(self):\n",
        "    return len(self.fullName())\n"
      ],
      "metadata": {
        "id": "7ICauUxqW5nD"
      },
      "execution_count": 61,
      "outputs": []
    },
    {
      "cell_type": "code",
      "source": [
        "emp_1=Employee('Adam','Schafer',50000)\n",
        "emp_2=Employee('Walter','Smith',55000)"
      ],
      "metadata": {
        "id": "r60ifp7tdr9J"
      },
      "execution_count": 63,
      "outputs": []
    },
    {
      "cell_type": "code",
      "source": [
        "print(repr(emp_1))\n",
        "print(str(emp_1))"
      ],
      "metadata": {
        "colab": {
          "base_uri": "https://localhost:8080/"
        },
        "id": "dJZb7gLkkYC4",
        "outputId": "c24aea9a-2653-4fee-bef9-3e424f13836d"
      },
      "execution_count": 50,
      "outputs": [
        {
          "output_type": "stream",
          "name": "stdout",
          "text": [
            "Employee('Adam','Schafer','50000')\n",
            "Adam Schafer - AdamSchafer@outlook.com\n"
          ]
        }
      ]
    },
    {
      "cell_type": "code",
      "source": [
        "print(emp_1.__repr__())\n",
        "print(emp_1.__str__()) #we got the same thing as above"
      ],
      "metadata": {
        "colab": {
          "base_uri": "https://localhost:8080/"
        },
        "id": "eZvOamEwki95",
        "outputId": "c84d8c48-213f-44b9-df16-5e6fa64a1bb1"
      },
      "execution_count": 51,
      "outputs": [
        {
          "output_type": "stream",
          "name": "stdout",
          "text": [
            "Employee('Adam','Schafer','50000')\n",
            "Adam Schafer - AdamSchafer@outlook.com\n"
          ]
        }
      ]
    },
    {
      "cell_type": "code",
      "source": [
        "print(emp_1 + emp_2)"
      ],
      "metadata": {
        "colab": {
          "base_uri": "https://localhost:8080/"
        },
        "id": "Mi1BE5dInLAA",
        "outputId": "5605d2c7-c840-4c69-87e8-0c67ddb10b52"
      },
      "execution_count": 58,
      "outputs": [
        {
          "output_type": "stream",
          "name": "stdout",
          "text": [
            "105000\n"
          ]
        }
      ]
    },
    {
      "cell_type": "code",
      "source": [
        "print(len('Doris'))"
      ],
      "metadata": {
        "colab": {
          "base_uri": "https://localhost:8080/"
        },
        "id": "tt3grfVWoRaI",
        "outputId": "735374ad-409f-4564-dd65-23ddccb9e7e5"
      },
      "execution_count": 59,
      "outputs": [
        {
          "output_type": "stream",
          "name": "stdout",
          "text": [
            "5\n"
          ]
        }
      ]
    },
    {
      "cell_type": "code",
      "source": [
        "print('Doris'.__len__())"
      ],
      "metadata": {
        "colab": {
          "base_uri": "https://localhost:8080/"
        },
        "id": "XTOjMTk5oVJZ",
        "outputId": "5de3e078-d892-4fcc-9898-fb05c7c139c1"
      },
      "execution_count": 60,
      "outputs": [
        {
          "output_type": "stream",
          "name": "stdout",
          "text": [
            "5\n"
          ]
        }
      ]
    },
    {
      "cell_type": "code",
      "source": [
        "print(len(emp_1))"
      ],
      "metadata": {
        "colab": {
          "base_uri": "https://localhost:8080/"
        },
        "id": "U2VyB8SRooVw",
        "outputId": "308b905a-4653-4843-d9e7-f3e8d275a198"
      },
      "execution_count": 64,
      "outputs": [
        {
          "output_type": "stream",
          "name": "stdout",
          "text": [
            "12\n"
          ]
        }
      ]
    },
    {
      "cell_type": "markdown",
      "source": [
        "## 6. Property Decorators\n",
        "- reference:property decorators https://www.geeksforgeeks.org/python-property-decorator-property/\n",
        "- decoators library: https://wiki.python.org/moin/PythonDecoratorLibrary\n",
        "- Defintion: \n",
        "  - allows us to define a method but we can access it as an attribute\n",
        "  - a callable that returns callable, Methods are callable as property can be called. \n",
        "  - return the property attributes of a class from the stated **getter, setter and deleter** as *parameters*\n",
        "    - setter: help change or set the value of private attributes.\n",
        "    - getter: help access to or get the value of the private attributes \n",
        "    - deleter:delete the instance attribute\n",
        "  - Format: `@decoratorName`, `methodName.setter`, `methodName.getter`, `methodName.deleter`"
      ],
      "metadata": {
        "id": "AjdSSIAVNPo5"
      }
    },
    {
      "cell_type": "code",
      "source": [
        "class Employee:\n",
        "  raise_amount=1.04\n",
        "\n",
        "  def __init__(self, firstName, lastName):\n",
        "    self.firstName=firstName\n",
        "    self.lastName=lastName\n",
        "  \n",
        "  @property\n",
        "  def email(self):\n",
        "    return '{}{}@outlook.com'.format(self.firstName, self.lastName)\n",
        "  \n",
        "  @property\n",
        "  def fullName(self):\n",
        "    return \"{} {}\".format(self.firstName,self.lastName)\n",
        "\n",
        "  @fullName.setter\n",
        "  def fullName(self, name): #the setterName is the same as the propertyName we want to \n",
        "    firstName, lastName=name.split(' ')\n",
        "    self.firstName=firstName\n",
        "    self.lastName=lastName\n",
        "\n",
        "  @fullName.deleter\n",
        "  def fullName(self): \n",
        "    print('Delete Name!')\n",
        "    self.firstName=None\n",
        "    self.lastName=None"
      ],
      "metadata": {
        "id": "n1zndRXBpsmK"
      },
      "execution_count": 82,
      "outputs": []
    },
    {
      "cell_type": "code",
      "source": [
        " emp_1=Employee('Adam','Schafer')"
      ],
      "metadata": {
        "id": "G3INYlzxvo8P"
      },
      "execution_count": 83,
      "outputs": []
    },
    {
      "cell_type": "code",
      "source": [
        "emp_1.firstName='Jim'"
      ],
      "metadata": {
        "id": "WUrvKSu3vt4e"
      },
      "execution_count": 74,
      "outputs": []
    },
    {
      "cell_type": "code",
      "source": [
        "print(emp_1.firstName)\n",
        "print(emp_1.email)\n",
        "print(emp_1.fullName) #call without declare () after .fullName"
      ],
      "metadata": {
        "colab": {
          "base_uri": "https://localhost:8080/"
        },
        "id": "gs-FFlo3v7z3",
        "outputId": "26b08718-38de-425f-c81a-c73469aef2ae"
      },
      "execution_count": 76,
      "outputs": [
        {
          "output_type": "stream",
          "name": "stdout",
          "text": [
            "Jim\n",
            "JimSchafer@outlook.com\n",
            "Jim Schafer\n"
          ]
        }
      ]
    },
    {
      "cell_type": "markdown",
      "source": [
        "- Add a setter"
      ],
      "metadata": {
        "id": "FWLLdfp4wflK"
      }
    },
    {
      "cell_type": "code",
      "source": [
        "emp_1.fullName='Corey Smith'"
      ],
      "metadata": {
        "id": "t8ufBmsDwUri"
      },
      "execution_count": 80,
      "outputs": []
    },
    {
      "cell_type": "code",
      "source": [
        "print(emp_1.firstName)\n",
        "print(emp_1.email)\n",
        "print(emp_1.fullName)"
      ],
      "metadata": {
        "colab": {
          "base_uri": "https://localhost:8080/"
        },
        "id": "u99aR7-L6cUi",
        "outputId": "70c85ac0-6a0e-467c-a214-59e0b7443875"
      },
      "execution_count": 81,
      "outputs": [
        {
          "output_type": "stream",
          "name": "stdout",
          "text": [
            "Corey\n",
            "CoreySmith@outlook.com\n",
            "Corey Smith\n"
          ]
        }
      ]
    },
    {
      "cell_type": "markdown",
      "source": [
        "- Add a deleter"
      ],
      "metadata": {
        "id": "i2zlpmCS7OSL"
      }
    },
    {
      "cell_type": "code",
      "source": [
        "del emp_1.fullName"
      ],
      "metadata": {
        "colab": {
          "base_uri": "https://localhost:8080/"
        },
        "id": "CWYE5iw_7Nmb",
        "outputId": "f331923d-d6c9-4a5a-ab7c-0fd69894d2fd"
      },
      "execution_count": 84,
      "outputs": [
        {
          "output_type": "stream",
          "name": "stdout",
          "text": [
            "Delete Name!\n"
          ]
        }
      ]
    },
    {
      "cell_type": "markdown",
      "source": [
        "### Other Notes\n",
        "- 一文掌握 __name__ 变量和在Python中的用法.https://cloud.tencent.com/developer/article/1489842\n",
        "- 可以直接调用写的模块文件里的methods `from fileName import methodName`"
      ],
      "metadata": {
        "id": "W4Y-Cp_J9UJH"
      }
    }
  ]
}