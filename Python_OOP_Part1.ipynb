{
  "nbformat": 4,
  "nbformat_minor": 0,
  "metadata": {
    "colab": {
      "provenance": []
    },
    "kernelspec": {
      "name": "python3",
      "display_name": "Python 3"
    },
    "language_info": {
      "name": "python"
    }
  },
  "cells": [
    {
      "cell_type": "markdown",
      "source": [
        "## 1. Classes and Instances"
      ],
      "metadata": {
        "id": "spDzTObuPJjm"
      }
    },
    {
      "cell_type": "markdown",
      "source": [
        "- Attributes\n",
        "- Methods: functions defined in a class\n",
        "  - Instance Methods: bound to the object\n",
        "- Class: \n",
        "   - a blueprint for creating instances\n",
        "   -  create user-defined data structures\n",
        "- Instance of Class\n",
        "  - instance variables: contain data that is unique to each instance\n"
      ],
      "metadata": {
        "id": "7yuWYEfrizSR"
      }
    },
    {
      "cell_type": "code",
      "source": [
        "class employee:\n",
        "  pass #if we want to leave this class empty, python know we want to skip it for now\n",
        "emp_1=employee() #create the instances of class\n",
        "emp_2=employee()\n",
        "print(emp_1)\n",
        "print(emp_2) #it returns that each attribute "
      ],
      "metadata": {
        "colab": {
          "base_uri": "https://localhost:8080/"
        },
        "id": "kbrgRy7Ck7SI",
        "outputId": "c7fe2987-5b2b-4897-9c4e-3940fdb6457a"
      },
      "execution_count": null,
      "outputs": [
        {
          "output_type": "stream",
          "name": "stdout",
          "text": [
            "<__main__.employee object at 0x7fc6a77fabe0>\n",
            "<__main__.employee object at 0x7fc6a77fabb0>\n"
          ]
        }
      ]
    },
    {
      "cell_type": "code",
      "source": [
        "#create instance variables mannually\n",
        "emp_1.firstName=\"Doris\"\n",
        "emp_1.lastName=\"Wang\"\n",
        "emp_1.email=\"DorisWang@outlook.com\"\n",
        "emp_1.pay=15000\n",
        "\n",
        "emp_2.firstName=\"May\"\n",
        "emp_2.lastName=\"Su\"\n",
        "emp_2.email=\"MaySu@outlook.com\"\n",
        "emp_2.pay=20000\n",
        "\n",
        "print(emp_1.email)\n",
        "print(emp_2.email)"
      ],
      "metadata": {
        "colab": {
          "base_uri": "https://localhost:8080/"
        },
        "id": "7WwzWDY0ndIU",
        "outputId": "e1c142d1-5ba9-4877-c12b-c7fa0b6370c7"
      },
      "execution_count": null,
      "outputs": [
        {
          "output_type": "stream",
          "name": "stdout",
          "text": [
            "DorisWang@outlook.com\n",
            "MaySu@outlook.com\n"
          ]
        }
      ]
    },
    {
      "cell_type": "markdown",
      "source": [
        "- `__init__`: \n",
        "  - sets the *initial state* of the object by assigning the values of the object’s properties.Initializes each new instance of the class.\n",
        "  - the **instance** is automatically passed to the `self` as the first parameter, then followed by other attributes."
      ],
      "metadata": {
        "id": "OpnQvKMNQpOZ"
      }
    },
    {
      "cell_type": "code",
      "source": [
        "class Employee:\n",
        "   def __init__(self, firstName,lastName,pay): #a method or constructor, call the instances `self` as the first argument automatically\n",
        "     self.firstName=firstName\n",
        "     self.lastName=lastName\n",
        "     self.pay=pay\n",
        "     self.email=firstName+lastName+'@outlook.com'\n",
        "\n",
        "   def fullName(self): #create a method, take the instances as the first argrument\n",
        "     return '{} {}'.format(self.firstName, self.lastName)"
      ],
      "metadata": {
        "id": "Fur9DI06qFwj"
      },
      "execution_count": null,
      "outputs": []
    },
    {
      "cell_type": "code",
      "source": [
        "emp_1=Employee('Doris','Wang',15000) \n",
        "emp_2=Employee('May','Su',20000)"
      ],
      "metadata": {
        "id": "fTlrdNqxDSsH"
      },
      "execution_count": null,
      "outputs": []
    },
    {
      "cell_type": "code",
      "source": [
        "print(emp_1.email)\n",
        "print(emp_2.email)"
      ],
      "metadata": {
        "colab": {
          "base_uri": "https://localhost:8080/"
        },
        "id": "kQTnJ_fmDrTl",
        "outputId": "52f724ac-fd2d-4669-856d-8367f62ea6a3"
      },
      "execution_count": null,
      "outputs": [
        {
          "output_type": "stream",
          "name": "stdout",
          "text": [
            "DorisWang@outlook.com\n",
            "MaySu@outlook.com\n"
          ]
        }
      ]
    },
    {
      "cell_type": "code",
      "source": [
        "print(emp_1.fullName()) #we cannot drop out the bracket after fullName"
      ],
      "metadata": {
        "colab": {
          "base_uri": "https://localhost:8080/"
        },
        "id": "V_MKUN72N8p7",
        "outputId": "6ec66f8d-a1b9-4322-ffc3-d87f6ecd9836"
      },
      "execution_count": null,
      "outputs": [
        {
          "output_type": "stream",
          "name": "stdout",
          "text": [
            "Doris Wang\n"
          ]
        }
      ]
    },
    {
      "cell_type": "code",
      "source": [
        "#another way to print using class name\n",
        "print(Employee.fullName(emp_1)) #pass in the instance in the bracket as self, call the constructor"
      ],
      "metadata": {
        "colab": {
          "base_uri": "https://localhost:8080/"
        },
        "id": "Zfmy-voPPFDF",
        "outputId": "6806c06c-c26f-404e-e933-6f318e0aca28"
      },
      "execution_count": null,
      "outputs": [
        {
          "output_type": "stream",
          "name": "stdout",
          "text": [
            "Doris Wang\n"
          ]
        }
      ]
    },
    {
      "cell_type": "markdown",
      "source": [
        "## 2. Class Variables"
      ],
      "metadata": {
        "id": "0hf148m-PzPy"
      }
    },
    {
      "cell_type": "markdown",
      "source": [
        "- definition: Variables that *shares among all instances* of a class. While, instance variables can be unique for each instance.\n",
        "- Initialially write it just after the class declaration and before the first method defined."
      ],
      "metadata": {
        "id": "-YP-mQyQSLmG"
      }
    },
    {
      "cell_type": "code",
      "source": [
        "class Employee1:\n",
        "   raise_amount=1.06        #set up the class variable and give it a value\n",
        "   def __init__(self, firstName,lastName,pay): \n",
        "     self.firstName=firstName\n",
        "     self.lastName=lastName\n",
        "     self.pay=pay\n",
        "     self.email=firstName+lastName+'@outlook.com'\n",
        "\n",
        "   def fullName(self): \n",
        "     return '{} {}'.format(self.firstName, self.lastName)\n",
        "    \n",
        "   def apply_raise(self):\n",
        "     self.pay=int(self.pay * self.raise_amount) #apply the class variable `className.classVariableName` or we can use `self.classVariableName` for resetting the constant per instance conveniently"
      ],
      "metadata": {
        "id": "wZ13-G1YP2zH"
      },
      "execution_count": null,
      "outputs": []
    },
    {
      "cell_type": "code",
      "source": [
        "emp_3=Employee1('Lucas','Zhang',10000) \n",
        "emp_4=Employee1('Jenny','Sun',25000)"
      ],
      "metadata": {
        "id": "hKYn4lgK0xHp"
      },
      "execution_count": 102,
      "outputs": []
    },
    {
      "cell_type": "code",
      "source": [
        "print(Employee1.raise_amount)\n",
        "print(emp_3.raise_amount)\n",
        "print(emp_4.raise_amount)"
      ],
      "metadata": {
        "colab": {
          "base_uri": "https://localhost:8080/"
        },
        "id": "J5j10k7lUk7j",
        "outputId": "06a7ec4f-9a6e-4c30-94ef-a2fd6ce6b2cc"
      },
      "execution_count": 103,
      "outputs": [
        {
          "output_type": "stream",
          "name": "stdout",
          "text": [
            "1.06\n",
            "1.06\n",
            "1.06\n"
          ]
        }
      ]
    },
    {
      "cell_type": "code",
      "source": [
        "print(emp_3.__dict__) #__dict__ check all inside attribute name and attribute value"
      ],
      "metadata": {
        "id": "0YXMWrkr1Hf9",
        "colab": {
          "base_uri": "https://localhost:8080/"
        },
        "outputId": "a3f2d754-132d-42d9-a321-19044734c968"
      },
      "execution_count": 104,
      "outputs": [
        {
          "output_type": "stream",
          "name": "stdout",
          "text": [
            "{'firstName': 'Lucas', 'lastName': 'Zhang', 'pay': 10000, 'email': 'LucasZhang@outlook.com'}\n"
          ]
        }
      ]
    },
    {
      "cell_type": "code",
      "source": [
        "print(Employee1.__dict__)"
      ],
      "metadata": {
        "id": "uK4GnLJH1QU0",
        "colab": {
          "base_uri": "https://localhost:8080/"
        },
        "outputId": "d2c19e7d-f226-442c-eda3-b754e71d7bed"
      },
      "execution_count": 105,
      "outputs": [
        {
          "output_type": "stream",
          "name": "stdout",
          "text": [
            "{'__module__': '__main__', 'raise_amount': 1.06, '__init__': <function Employee1.__init__ at 0x7fc6c4040d30>, 'fullName': <function Employee1.fullName at 0x7fc6c4040790>, 'apply_raise': <function Employee1.apply_raise at 0x7fc6c40403a0>, '__dict__': <attribute '__dict__' of 'Employee1' objects>, '__weakref__': <attribute '__weakref__' of 'Employee1' objects>, '__doc__': None}\n"
          ]
        }
      ]
    },
    {
      "cell_type": "code",
      "source": [
        "Employee1.raise_amount=1.05  #try to change class variable's value\n",
        "print(Employee1.raise_amount)\n",
        "print(emp_3.raise_amount)\n",
        "print(emp_4.raise_amount) #all values changed"
      ],
      "metadata": {
        "id": "lIatYaV22EjU",
        "colab": {
          "base_uri": "https://localhost:8080/"
        },
        "outputId": "275a95ac-303e-4d9b-a94f-6a60bb54e4d2"
      },
      "execution_count": 106,
      "outputs": [
        {
          "output_type": "stream",
          "name": "stdout",
          "text": [
            "1.05\n",
            "1.05\n",
            "1.05\n"
          ]
        }
      ]
    },
    {
      "cell_type": "code",
      "source": [
        "emp_3.raise_amount=1.09 #change the instance variable's value\n",
        "print(Employee1.raise_amount)\n",
        "print(emp_3.raise_amount) #only this instance value changed\n",
        "print(emp_4.raise_amount)"
      ],
      "metadata": {
        "id": "BitE8Wad2Ro0",
        "colab": {
          "base_uri": "https://localhost:8080/"
        },
        "outputId": "5d5df602-2104-4998-d278-34e2d64108a7"
      },
      "execution_count": 107,
      "outputs": [
        {
          "output_type": "stream",
          "name": "stdout",
          "text": [
            "1.05\n",
            "1.09\n",
            "1.05\n"
          ]
        }
      ]
    },
    {
      "cell_type": "code",
      "source": [
        "print(emp_3.__dict__) #this time it returns include raise_amount value which is different from previous test"
      ],
      "metadata": {
        "id": "_jo993t82uSO",
        "colab": {
          "base_uri": "https://localhost:8080/"
        },
        "outputId": "722d20af-979f-4afb-fbb1-7f3017622805"
      },
      "execution_count": 108,
      "outputs": [
        {
          "output_type": "stream",
          "name": "stdout",
          "text": [
            "{'firstName': 'Lucas', 'lastName': 'Zhang', 'pay': 10000, 'email': 'LucasZhang@outlook.com', 'raise_amount': 1.09}\n"
          ]
        }
      ]
    },
    {
      "cell_type": "markdown",
      "source": [
        "Another Class Variable Example:"
      ],
      "metadata": {
        "id": "rlittqxu3w1q"
      }
    },
    {
      "cell_type": "code",
      "source": [
        "class Employee2:\n",
        "   num_of_employees=0 #initalized value\n",
        "   raise_amount=1.06       \n",
        "\n",
        "   def __init__(self, firstName,lastName,pay): \n",
        "     self.firstName=firstName\n",
        "     self.lastName=lastName\n",
        "     self.pay=pay\n",
        "     self.email=firstName+lastName+'@outlook.com'\n",
        "\n",
        "     Employee2.num_of_employees+=1 #each time we recruit an employee, the count is added by 1.\n",
        "\n",
        "   def fullName(self): \n",
        "     return '{} {}'.format(self.firstName, self.lastName)\n",
        "    \n",
        "   def apply_raise(self):\n",
        "     self.pay=int(self.pay * self.raise_amount)"
      ],
      "metadata": {
        "id": "TK4NGEQh3z8V"
      },
      "execution_count": 109,
      "outputs": []
    },
    {
      "cell_type": "code",
      "source": [
        "emp_5=Employee2('Alethea','Cheng',9000) \n",
        "emp_6=Employee2('Tabitha','Yao',11000)"
      ],
      "metadata": {
        "id": "A-0ZtEUr4uwP"
      },
      "execution_count": 110,
      "outputs": []
    },
    {
      "cell_type": "code",
      "source": [
        "print(Employee2.num_of_employees)"
      ],
      "metadata": {
        "id": "MWqiaNBb46sT",
        "colab": {
          "base_uri": "https://localhost:8080/"
        },
        "outputId": "96aa2b8e-75d9-4ef7-9c79-f79220e40a33"
      },
      "execution_count": 111,
      "outputs": [
        {
          "output_type": "stream",
          "name": "stdout",
          "text": [
            "2\n"
          ]
        }
      ]
    },
    {
      "cell_type": "markdown",
      "source": [
        "## 3. Class Methods and Static Methods\n",
        "- Class Method:\n",
        "  - add a decorator `@classmethod` to the top,changing normal instance methods to class methods. Or use `classmethod()` function to define.\n",
        "  - modify the class state by **changing the class variables**\n",
        "  - bound to the class.\n",
        "- Static Method:\n",
        "  - use a decorator `@staticmethod` to define a static method\n",
        "  - bound to the class\n",
        "- References: https://pynative.com/python-class-method-vs-static-method-vs-instance-method/"
      ],
      "metadata": {
        "id": "-YDYE7es53ku"
      }
    },
    {
      "cell_type": "markdown",
      "source": [
        "#### Class Methods"
      ],
      "metadata": {
        "id": "lw_RON9mJ6va"
      }
    },
    {
      "cell_type": "code",
      "source": [
        "class Employee3:\n",
        "   num_of_employees=0 #initalized value\n",
        "   raise_amount=1.06       \n",
        "\n",
        "   def __init__(self, firstName,lastName,pay): \n",
        "     self.firstName=firstName\n",
        "     self.lastName=lastName\n",
        "     self.pay=pay\n",
        "     self.email=firstName+lastName+'@outlook.com'\n",
        "\n",
        "     Employee2.num_of_employees+=1 #each time we recruit an employee, the count is added by 1.\n",
        "\n",
        "   def fullName(self): \n",
        "     return '{} {}'.format(self.firstName, self.lastName)\n",
        "    \n",
        "   def apply_raise(self):\n",
        "     self.pay=int(self.pay * self.raise_amount)\n",
        "    \n",
        "   @classmethod\n",
        "   def set_raise_amount(cls,amount):  #first argument, we pass `cls` as our class variable name, instead of the keyword `class`.\n",
        "     cls.raise_amount=amount"
      ],
      "metadata": {
        "id": "itlQ4jT99bQd"
      },
      "execution_count": 112,
      "outputs": []
    },
    {
      "cell_type": "code",
      "source": [
        "emp_7=Employee3('Brenda','Yang',9900) \n",
        "emp_8=Employee3('Olga','Lee',22000)"
      ],
      "metadata": {
        "id": "826fJMaZEQ_b"
      },
      "execution_count": 113,
      "outputs": []
    },
    {
      "cell_type": "code",
      "source": [
        "Employee3.set_raise_amount(1.06) #call the class method"
      ],
      "metadata": {
        "id": "wCr2HLVk_HeU"
      },
      "execution_count": 114,
      "outputs": []
    },
    {
      "cell_type": "code",
      "source": [
        "print(Employee3.raise_amount)\n",
        "print(emp_7.raise_amount) \n",
        "print(emp_8.raise_amount)"
      ],
      "metadata": {
        "id": "pHe0uHal_fGT",
        "colab": {
          "base_uri": "https://localhost:8080/"
        },
        "outputId": "61824e92-2012-4fe7-fe67-bc325cf5ec44"
      },
      "execution_count": 115,
      "outputs": [
        {
          "output_type": "stream",
          "name": "stdout",
          "text": [
            "1.06\n",
            "1.06\n",
            "1.06\n"
          ]
        }
      ]
    },
    {
      "cell_type": "code",
      "source": [
        "#even if run the class method in a specific instance, the effect of changing class method variable value on whole class.\n",
        "emp_7.set_raise_amount(1.08)"
      ],
      "metadata": {
        "id": "-c5iaSs_D9HC"
      },
      "execution_count": 116,
      "outputs": []
    },
    {
      "cell_type": "code",
      "source": [
        "print(Employee3.raise_amount)\n",
        "print(emp_7.raise_amount) \n",
        "print(emp_8.raise_amount) #all values have changed"
      ],
      "metadata": {
        "id": "v2BKKttsEq6_",
        "colab": {
          "base_uri": "https://localhost:8080/"
        },
        "outputId": "627b93c3-8265-41cd-b99f-b7bfa635ab68"
      },
      "execution_count": 117,
      "outputs": [
        {
          "output_type": "stream",
          "name": "stdout",
          "text": [
            "1.08\n",
            "1.08\n",
            "1.08\n"
          ]
        }
      ]
    },
    {
      "cell_type": "markdown",
      "source": [
        "String Example:"
      ],
      "metadata": {
        "id": "UIej2HKhGo2J"
      }
    },
    {
      "cell_type": "code",
      "source": [
        "emp_str_1='John-Doe-70000'\n",
        "emp_str_2='Steve-Smith-30000'\n",
        "emp_str_3='Jane_Doe_90000'"
      ],
      "metadata": {
        "id": "0Lxuhj9ZF0Hv"
      },
      "execution_count": 118,
      "outputs": []
    },
    {
      "cell_type": "code",
      "source": [
        "firstName, lastName, pay=emp_str_1.split('-')"
      ],
      "metadata": {
        "id": "o9R_eVKsGsV1"
      },
      "execution_count": 119,
      "outputs": []
    },
    {
      "cell_type": "code",
      "source": [
        "#create a new object under Employee3 class\n",
        "new_emp_1=Employee3(firstName, lastName, pay)"
      ],
      "metadata": {
        "id": "DI_YBDVkG2W-"
      },
      "execution_count": 120,
      "outputs": []
    },
    {
      "cell_type": "code",
      "source": [
        "print(new_emp_1.email)\n",
        "print(new_emp_1.pay)"
      ],
      "metadata": {
        "id": "LwNTZyQqHqUS",
        "colab": {
          "base_uri": "https://localhost:8080/"
        },
        "outputId": "7a18bf73-cabb-420e-8943-e6b6d2247f14"
      },
      "execution_count": 121,
      "outputs": [
        {
          "output_type": "stream",
          "name": "stdout",
          "text": [
            "JohnDoe@outlook.com\n",
            "70000\n"
          ]
        }
      ]
    },
    {
      "cell_type": "markdown",
      "source": [
        "##### Create an Alternative Constructor"
      ],
      "metadata": {
        "id": "YRR8vpH8H8Cb"
      }
    },
    {
      "cell_type": "code",
      "source": [
        "class Employee3:\n",
        "   num_of_employees=0 #initalized value\n",
        "   raise_amount=1.06       \n",
        "\n",
        "   def __init__(self, firstName,lastName,pay): \n",
        "     self.firstName=firstName\n",
        "     self.lastName=lastName\n",
        "     self.pay=pay\n",
        "     self.email=firstName+lastName+'@outlook.com'\n",
        "\n",
        "     Employee2.num_of_employees+=1 #each time we recruit an employee, the count is added by 1.\n",
        "\n",
        "   def fullName(self): \n",
        "     return '{} {}'.format(self.firstName, self.lastName)\n",
        "    \n",
        "   def apply_raise(self):\n",
        "     self.pay=int(self.pay * self.raise_amount)\n",
        "    \n",
        "   @classmethod\n",
        "   def set_raise_amount(cls,amount):  #first argument, automatically set `cls` as our class variable name, instead of the keyword `class`.\n",
        "     cls.raise_amount=amount\n",
        "   \n",
        "   @classmethod\n",
        "   def from_string(cls, emp_str):\n",
        "     firstName, lastName, pay= emp_str.split('-') #split by the specific symbol, getting into a correct format\n",
        "     return cls(firstName, lastName, pay) #create a new employee and receive the new employee object as return"
      ],
      "metadata": {
        "id": "42gnOH-rIFmA"
      },
      "execution_count": 122,
      "outputs": []
    },
    {
      "cell_type": "code",
      "source": [
        "#call the from_string method:\n",
        "new_emp_2=Employee3.from_string(emp_str_2)\n",
        "print(new_emp_2.email)\n",
        "print(new_emp_2.pay)"
      ],
      "metadata": {
        "id": "6oorRyB2JXaN",
        "colab": {
          "base_uri": "https://localhost:8080/"
        },
        "outputId": "5368fbbc-8e4e-4fb0-8502-bc260695dcd1"
      },
      "execution_count": 123,
      "outputs": [
        {
          "output_type": "stream",
          "name": "stdout",
          "text": [
            "SteveSmith@outlook.com\n",
            "30000\n"
          ]
        }
      ]
    },
    {
      "cell_type": "markdown",
      "source": [
        "### Static Method\n",
        "- can be called using ClassName or by using a class object.\n",
        "- without paying attention to the required first parameter in the bracket\n",
        "- cannot modify the class or object state"
      ],
      "metadata": {
        "id": "xlgy3MfwYWo5"
      }
    },
    {
      "cell_type": "code",
      "source": [
        "class Employee3:\n",
        "   num_of_employees=0 #initalized value\n",
        "   raise_amount=1.06       \n",
        "\n",
        "   def __init__(self, firstName,lastName,pay): \n",
        "     self.firstName=firstName\n",
        "     self.lastName=lastName\n",
        "     self.pay=pay\n",
        "     self.email=firstName+lastName+'@outlook.com'\n",
        "\n",
        "     Employee2.num_of_employees+=1 #each time we recruit an employee, the count is added by 1.\n",
        "\n",
        "   def fullName(self): \n",
        "     return '{} {}'.format(self.firstName, self.lastName)\n",
        "    \n",
        "   def apply_raise(self):\n",
        "     self.pay=int(self.pay * self.raise_amount)\n",
        "    \n",
        "   @classmethod\n",
        "   def set_raise_amount(cls,amount):  #first argument, automatically set `cls` as our class variable name, instead of the keyword `class`.\n",
        "     cls.raise_amount=amount\n",
        "   \n",
        "   @classmethod\n",
        "   def from_string(cls, emp_str):\n",
        "     firstName, lastName, pay= emp_str.split('-') #split by the specific symbol, getting into a correct format\n",
        "     return cls(firstName, lastName, pay)\n",
        "\n",
        "   @staticmethod\n",
        "   def is_workday(day): #without pass the required first argument as class/instance methods, we just input the attribute we want to work with is enough\n",
        "     if day.weekday()==5 or day.weekday()==6:\n",
        "       return False\n",
        "     return True"
      ],
      "metadata": {
        "id": "wBrpLGi9ZV9C"
      },
      "execution_count": 128,
      "outputs": []
    },
    {
      "cell_type": "code",
      "source": [
        "import datetime\n",
        "my_date=datetime.date(2023,2,16)\n",
        "print(Employee3.is_workday(my_date))"
      ],
      "metadata": {
        "colab": {
          "base_uri": "https://localhost:8080/"
        },
        "id": "VlkxjFxnaVFq",
        "outputId": "d7a85ed3-0813-4cca-95c6-83b8768c15bc"
      },
      "execution_count": 129,
      "outputs": [
        {
          "output_type": "stream",
          "name": "stdout",
          "text": [
            "True\n"
          ]
        }
      ]
    }
  ]
}